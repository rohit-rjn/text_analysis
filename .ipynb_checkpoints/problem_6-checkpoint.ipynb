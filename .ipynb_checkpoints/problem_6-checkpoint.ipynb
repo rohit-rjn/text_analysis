{
 "cells": [
  {
   "cell_type": "code",
   "execution_count": 1,
   "metadata": {
    "collapsed": true
   },
   "outputs": [],
   "source": [
    "import string\n",
    "import numpy as np"
   ]
  },
  {
   "cell_type": "code",
   "execution_count": 3,
   "metadata": {
    "collapsed": true
   },
   "outputs": [],
   "source": [
    "# returns: string\n",
    "# arg    : string\n",
    "# Remove punctuations and make the string lowercase\n",
    "def removePunctuations(sen):\n",
    "    # Split the string into word tokens\n",
    "    temp_l = sen.split()\n",
    "    #print(temp_l)\n",
    "    i = 0\n",
    "    j = 0\n",
    "    \n",
    "    # Changing the word to lowercase and removing punctuations\n",
    "    for word in temp_l :\n",
    "        j = 0\n",
    "        #print(len(word))\n",
    "        for l in word :\n",
    "            if l in string.punctuation:\n",
    "                if l == \"'\":\n",
    "                    if j+1<len(word) and word[j+1] == 's':\n",
    "                        j = j + 1\n",
    "                        continue\n",
    "                word = word.replace(l,\" \")\n",
    "                #print(j,word[j])\n",
    "            j += 1\n",
    "\n",
    "        temp_l[i] = word.lower()\n",
    "        i=i+1   \n",
    "\n",
    "    #spliting is being don here beacause in sentences line here---so after punctuation removal it should \n",
    "    #become \"here so\"   \n",
    "    content = \" \".join(temp_l)\n",
    "\n",
    "    return content"
   ]
  },
  {
   "cell_type": "code",
   "execution_count": 4,
   "metadata": {
    "collapsed": false
   },
   "outputs": [],
   "source": [
    "def findSentences(file_name,word):\n",
    "\n",
    "    file = open(file_name, \"r\")\n",
    "    filedata = file.readlines()\n",
    "    article = filedata[0].split(\". \")\n",
    "    sentence_with_words = []\n",
    "\n",
    "    for sentence in article:\n",
    "        sentence_lower = removePunctuations(sentence)\n",
    "        word = removePunctuations(word)\n",
    "        if word in sentence_lower:\n",
    "            sentence_with_words.append(sentence)\n",
    "    return sentence_with_words"
   ]
  },
  {
   "cell_type": "code",
   "execution_count": 8,
   "metadata": {
    "collapsed": true
   },
   "outputs": [],
   "source": [
    "def printSentences():\n",
    "    cond = False\n",
    "\n",
    "    cond = False\n",
    "    #take input\n",
    "    while(cond == False):\n",
    "        word = input('Enter the word : \\n')\n",
    "        if len(word) < 1:\n",
    "            print(\"No words entered\")\n",
    "        else:\n",
    "            cond = True\n",
    "\n",
    "    file_name = 'jarvis.txt'\n",
    "\n",
    "    sen_with_words = findSentences(file_name,word)\n",
    "    \n",
    "    print('\\nSentences with word : \\n')\n",
    "    for sentence in sen_with_words:\n",
    "        print(sentence,'\\n')"
   ]
  },
  {
   "cell_type": "code",
   "execution_count": 12,
   "metadata": {
    "collapsed": false
   },
   "outputs": [
    {
     "name": "stdout",
     "output_type": "stream",
     "text": [
      "Enter the word : \n",
      "Edwin\n",
      "\n",
      "Sentences with word : \n",
      "\n",
      "Just A Rather Very Intelligent System a.k.a JARVIS is created by Tony Stark natural-language and a sophisticated artificial intelligence user interface computer system, named after Edwin Jarvis, the butler who worked for Howard Stark \n",
      "\n"
     ]
    }
   ],
   "source": [
    "printSentences()"
   ]
  },
  {
   "cell_type": "code",
   "execution_count": null,
   "metadata": {
    "collapsed": true
   },
   "outputs": [],
   "source": []
  }
 ],
 "metadata": {
  "anaconda-cloud": {},
  "kernelspec": {
   "display_name": "Python [conda root]",
   "language": "python",
   "name": "conda-root-py"
  },
  "language_info": {
   "codemirror_mode": {
    "name": "ipython",
    "version": 3
   },
   "file_extension": ".py",
   "mimetype": "text/x-python",
   "name": "python",
   "nbconvert_exporter": "python",
   "pygments_lexer": "ipython3",
   "version": "3.5.6"
  }
 },
 "nbformat": 4,
 "nbformat_minor": 1
}
