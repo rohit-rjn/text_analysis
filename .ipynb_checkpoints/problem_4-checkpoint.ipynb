{
 "cells": [
  {
   "cell_type": "markdown",
   "metadata": {},
   "source": [
    "## Find Summary\n",
    "In question it was asked to print summary based on words importance, but due to time constraint <br> \n",
    "I am using Python Library which calculates based on Sentence Imporatnce <br>\n"
   ]
  },
  {
   "cell_type": "code",
   "execution_count": 9,
   "metadata": {
    "collapsed": false
   },
   "outputs": [],
   "source": [
    "from __future__ import absolute_import\n",
    "from __future__ import division, print_function, unicode_literals\n",
    "\n",
    "from sumy.parsers.html import HtmlParser\n",
    "from sumy.parsers.plaintext import PlaintextParser\n",
    "from sumy.nlp.tokenizers import Tokenizer\n",
    "from sumy.summarizers.lsa import LsaSummarizer as Summarizer\n",
    "from sumy.nlp.stemmers import Stemmer\n",
    "from sumy.utils import get_stop_words"
   ]
  },
  {
   "cell_type": "code",
   "execution_count": 10,
   "metadata": {
    "collapsed": true
   },
   "outputs": [],
   "source": [
    "def summarizer(sen_count, file_name):\n",
    "    LANGUAGE = \"english\"\n",
    "    #SENTENCES_COUNT = 2\n",
    "    #url = \"https://en.wikipedia.org/wiki/Automatic_summarization\"\n",
    "    #parser = HtmlParser.from_url(url, Tokenizer(LANGUAGE))\n",
    "    #or for plain text files\n",
    "    parser = PlaintextParser.from_file(file_name, Tokenizer(LANGUAGE))\n",
    "    stemmer = Stemmer(LANGUAGE)\n",
    "\n",
    "    summarizer = Summarizer(stemmer)\n",
    "    summarizer.stop_words = get_stop_words(LANGUAGE)\n",
    "\n",
    "    for sentence in summarizer(parser.document, sen_count):\n",
    "        print(sentence)"
   ]
  },
  {
   "cell_type": "code",
   "execution_count": 11,
   "metadata": {
    "collapsed": false
   },
   "outputs": [],
   "source": [
    "def sizeParagraph(file_name):\n",
    "    file = open(file_name, \"r\")\n",
    "    filedata = file.readlines()\n",
    "    article = filedata[0].split(\". \")\n",
    "    return len(article)\n"
   ]
  },
  {
   "cell_type": "code",
   "execution_count": 16,
   "metadata": {
    "collapsed": false
   },
   "outputs": [],
   "source": [
    "def inputSummarySize():\n",
    "    size = input('Enter Summary Size % \\n')\n",
    "    size = int(size)\n",
    "    file_name = 'jarvis.txt'\n",
    "    total_sen = sizeParagraph(file_name)\n",
    "    sum_sen_size = int((total_sen * size)/100)\n",
    "    summarizer(sum_sen_size, file_name)\n",
    "    "
   ]
  },
  {
   "cell_type": "code",
   "execution_count": 17,
   "metadata": {
    "collapsed": false
   },
   "outputs": [
    {
     "name": "stdout",
     "output_type": "stream",
     "text": [
      "Enter Summary Size % \n",
      "20\n",
      "JARVIS speaks with a refined British accent, and is capable of back talk, sarcasm and condescension.\n",
      "His remains were found by Stark, who uploaded them into a synthetic body made of vibranium and, in conjunction with Ultron's personality and an Infinity Stone.\n"
     ]
    }
   ],
   "source": [
    "inputSummarySize()"
   ]
  },
  {
   "cell_type": "code",
   "execution_count": null,
   "metadata": {
    "collapsed": true
   },
   "outputs": [],
   "source": []
  }
 ],
 "metadata": {
  "anaconda-cloud": {},
  "kernelspec": {
   "display_name": "Python [conda root]",
   "language": "python",
   "name": "conda-root-py"
  },
  "language_info": {
   "codemirror_mode": {
    "name": "ipython",
    "version": 3
   },
   "file_extension": ".py",
   "mimetype": "text/x-python",
   "name": "python",
   "nbconvert_exporter": "python",
   "pygments_lexer": "ipython3",
   "version": "3.5.6"
  }
 },
 "nbformat": 4,
 "nbformat_minor": 1
}
